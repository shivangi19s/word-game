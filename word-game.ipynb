{
 "cells": [
  {
   "cell_type": "code",
   "execution_count": 1,
   "id": "82391da4",
   "metadata": {},
   "outputs": [],
   "source": [
    "from random import choice\n",
    "from termcolor import colored\n",
    "import pandas as pd"
   ]
  },
  {
   "cell_type": "code",
   "execution_count": 2,
   "id": "ffb7b98d",
   "metadata": {},
   "outputs": [
    {
     "data": {
      "text/html": [
       "<div>\n",
       "<style scoped>\n",
       "    .dataframe tbody tr th:only-of-type {\n",
       "        vertical-align: middle;\n",
       "    }\n",
       "\n",
       "    .dataframe tbody tr th {\n",
       "        vertical-align: top;\n",
       "    }\n",
       "\n",
       "    .dataframe thead th {\n",
       "        text-align: right;\n",
       "    }\n",
       "</style>\n",
       "<table border=\"1\" class=\"dataframe\">\n",
       "  <thead>\n",
       "    <tr style=\"text-align: right;\">\n",
       "      <th></th>\n",
       "      <th>word</th>\n",
       "      <th>count</th>\n",
       "    </tr>\n",
       "  </thead>\n",
       "  <tbody>\n",
       "    <tr>\n",
       "      <th>0</th>\n",
       "      <td>the</td>\n",
       "      <td>23135851162</td>\n",
       "    </tr>\n",
       "    <tr>\n",
       "      <th>1</th>\n",
       "      <td>of</td>\n",
       "      <td>13151942776</td>\n",
       "    </tr>\n",
       "    <tr>\n",
       "      <th>2</th>\n",
       "      <td>and</td>\n",
       "      <td>12997637966</td>\n",
       "    </tr>\n",
       "    <tr>\n",
       "      <th>3</th>\n",
       "      <td>to</td>\n",
       "      <td>12136980858</td>\n",
       "    </tr>\n",
       "    <tr>\n",
       "      <th>4</th>\n",
       "      <td>a</td>\n",
       "      <td>9081174698</td>\n",
       "    </tr>\n",
       "  </tbody>\n",
       "</table>\n",
       "</div>"
      ],
      "text/plain": [
       "  word        count\n",
       "0  the  23135851162\n",
       "1   of  13151942776\n",
       "2  and  12997637966\n",
       "3   to  12136980858\n",
       "4    a   9081174698"
      ]
     },
     "execution_count": 2,
     "metadata": {},
     "output_type": "execute_result"
    }
   ],
   "source": [
    "words = pd.read_csv('unigram_freq.csv')\n",
    "words.head()"
   ]
  },
  {
   "cell_type": "code",
   "execution_count": 3,
   "id": "2444eb0f",
   "metadata": {},
   "outputs": [
    {
     "data": {
      "text/plain": [
       "['the', 'of', 'and', 'to', 'a', 'in', 'for', 'is']"
      ]
     },
     "execution_count": 3,
     "metadata": {},
     "output_type": "execute_result"
    }
   ],
   "source": [
    "words.loc[(words['count']>=1000000)].tail()\n",
    "\n",
    "common_words = list(words.loc[(words['count']>=1000000)].astype(str).word.values)\n",
    "common_words[:8]"
   ]
  },
  {
   "cell_type": "code",
   "execution_count": 4,
   "id": "ee734663",
   "metadata": {},
   "outputs": [
    {
     "name": "stdout",
     "output_type": "stream",
     "text": [
      "['ABOUT', 'OTHER', 'WHICH', 'THEIR', 'THERE', 'FIRST', 'WOULD', 'THESE', 'CLICK', 'PRICE']\n"
     ]
    }
   ],
   "source": [
    "chars5_words = [i.upper() for i in common_words if len(i) == 5]\n",
    "print(chars5_words[:10])"
   ]
  },
  {
   "cell_type": "code",
   "execution_count": 5,
   "id": "5fff29e4",
   "metadata": {},
   "outputs": [],
   "source": [
    "TILES = {\n",
    "    'correct_place': '🟩',\n",
    "    'correct_letter': '🟨',\n",
    "    'incorrect': '⬛'\n",
    "}"
   ]
  },
  {
   "cell_type": "code",
   "execution_count": 6,
   "id": "db888047",
   "metadata": {},
   "outputs": [],
   "source": [
    "def validate_guess(guess, answer):\n",
    "    guessed = []\n",
    "    tile_pattern = []\n",
    "    # loop through every letter of the guess\n",
    "    for i, letter in enumerate(guess):\n",
    "        # if the letter is in the correct spot - add green\n",
    "        if answer[i] == guess[i]:\n",
    "            guessed += colored(letter, 'green')\n",
    "            tile_pattern.append(TILES['correct_place'])\n",
    "            # replace the existing letter in the answer with -\n",
    "            answer = answer.replace(letter, '-', 1)\n",
    "        # if the letter is correct but on incorrect spot - add yellow\n",
    "        elif letter in answer:\n",
    "            guessed += colored(letter, 'yellow')\n",
    "            tile_pattern.append(TILES['correct_letter'])\n",
    "            # replace the existing letter in the answer with -\n",
    "            answer = answer.replace(letter, '-', 1)\n",
    "        # if the letter doens't exist, add - grey\n",
    "        else:\n",
    "            guessed += letter\n",
    "            tile_pattern.append(TILES['incorrect'])\n",
    "    \n",
    "    # Return the joined colored letters and tiles pattern\n",
    "    return ''.join(guessed), ''.join(tile_pattern)"
   ]
  },
  {
   "cell_type": "code",
   "execution_count": 9,
   "id": "1acb88a6",
   "metadata": {},
   "outputs": [
    {
     "name": "stdout",
     "output_type": "stream",
     "text": [
      "WELCOME\n",
      "NOW GUESS! YOU HAVE 6 TRIES\n",
      "\n"
     ]
    },
    {
     "name": "stdin",
     "output_type": "stream",
     "text": [
      " SHARE\n"
     ]
    },
    {
     "name": "stdout",
     "output_type": "stream",
     "text": [
      "\u001b[32mS\u001b[0mHAR\u001b[32mE\u001b[0m 🟩⬛⬛⬛🟩\n",
      "\n"
     ]
    },
    {
     "name": "stdin",
     "output_type": "stream",
     "text": [
      " STORE\n"
     ]
    },
    {
     "name": "stdout",
     "output_type": "stream",
     "text": [
      "\u001b[32mS\u001b[0mHAR\u001b[32mE\u001b[0m 🟩⬛⬛⬛🟩\n",
      "\u001b[32mS\u001b[0m\u001b[32mT\u001b[0mOR\u001b[32mE\u001b[0m 🟩🟩⬛⬛🟩\n",
      "\n"
     ]
    },
    {
     "name": "stdin",
     "output_type": "stream",
     "text": [
      " STYLE\n"
     ]
    },
    {
     "name": "stdout",
     "output_type": "stream",
     "text": [
      "\u001b[32mS\u001b[0mHAR\u001b[32mE\u001b[0m 🟩⬛⬛⬛🟩\n",
      "\u001b[32mS\u001b[0m\u001b[32mT\u001b[0mOR\u001b[32mE\u001b[0m 🟩🟩⬛⬛🟩\n",
      "\u001b[32mS\u001b[0m\u001b[32mT\u001b[0m\u001b[32mY\u001b[0m\u001b[32mL\u001b[0m\u001b[32mE\u001b[0m 🟩🟩🟩🟩🟩\n",
      "\n",
      "\n",
      "GOOD JOB, YOU NAILED IT IN 3/6 TRIES\n",
      "\n"
     ]
    }
   ],
   "source": [
    "ALLOWED_GUESSES = 6\n",
    "\n",
    "\n",
    "def wordle_game(target):\n",
    "    GAME_ENDED = False\n",
    "    history_guesses = []\n",
    "    tiles_patterns = []\n",
    "    colored_guessed = []\n",
    "    \n",
    "    while not GAME_ENDED:\n",
    "        guess = input().upper()\n",
    "        BAD_GUESS = True\n",
    "        while BAD_GUESS:\n",
    "            if guess in history_guesses:\n",
    "                print(\"You've already guessed this word!!\\n\")\n",
    "                guess = input().upper()\n",
    "            elif len(guess) != 5:\n",
    "                print('Please enter a 5-letter word!!\\n')\n",
    "                guess = input().upper()\n",
    "            elif guess not in chars5_words:\n",
    "                print('This word does not exist!')\n",
    "                guess = input().upper()\n",
    "            else:\n",
    "                BAD_GUESS = False\n",
    "        \n",
    "        history_guesses.append(guess)\n",
    "        guessed, pattern = validate_guess(guess, target)\n",
    "        colored_guessed.append(guessed)\n",
    "        tiles_patterns.append(pattern)\n",
    "        \n",
    "        for g, p in zip(colored_guessed, tiles_patterns):\n",
    "            print(g, end=' ')\n",
    "            print(p)\n",
    "        print()\n",
    "        \n",
    "        if guess == target or len(history_guesses) == ALLOWED_GUESSES:\n",
    "            GAME_ENDED = True\n",
    "    \n",
    "    if len(history_guesses) == ALLOWED_GUESSES and guess != target:\n",
    "        print(\"\\nDANG IT! YOU RAN OUT OF TRIES. THE CORRECT WORD WAS {}\".format(colored(target, 'green')))\n",
    "    else:\n",
    "        print(\"\\nGOOD JOB, YOU NAILED IT IN {}/{} TRIES\\n\".format(len(history_guesses),\n",
    "                                                                  ALLOWED_GUESSES))\n",
    "\n",
    "\n",
    "target_word = choice(chars5_words)\n",
    "\n",
    "print('WELCOME')\n",
    "print('NOW GUESS! YOU HAVE {} TRIES\\n'.format(ALLOWED_GUESSES))\n",
    "wordle_game(target_word)"
   ]
  }
 ],
 "metadata": {
  "kernelspec": {
   "display_name": "Python 3 (ipykernel)",
   "language": "python",
   "name": "python3"
  },
  "language_info": {
   "codemirror_mode": {
    "name": "ipython",
    "version": 3
   },
   "file_extension": ".py",
   "mimetype": "text/x-python",
   "name": "python",
   "nbconvert_exporter": "python",
   "pygments_lexer": "ipython3",
   "version": "3.10.11"
  }
 },
 "nbformat": 4,
 "nbformat_minor": 5
}
